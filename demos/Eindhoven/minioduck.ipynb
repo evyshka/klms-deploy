{
 "cells": [
  {
   "cell_type": "code",
   "execution_count": null,
   "metadata": {},
   "outputs": [],
   "source": [
    "import duckdb\n",
    "import pandas as pd\n",
    "%load_ext sql"
   ]
  },
  {
   "cell_type": "code",
   "execution_count": null,
   "metadata": {},
   "outputs": [],
   "source": [
    "%config SqlMagic.autopandas = True\n",
    "%config SqlMagic.feedback = False\n",
    "%config SqlMagic.displaycon = False\n"
   ]
  },
  {
   "cell_type": "code",
   "execution_count": null,
   "metadata": {},
   "outputs": [],
   "source": [
    "%sql duckdb:///:default:\n",
    "# %sql duckdb:///:memory:\n",
    "# %sql duckdb:///path/to/file.db"
   ]
  },
  {
   "cell_type": "code",
   "execution_count": null,
   "metadata": {},
   "outputs": [],
   "source": [
    "# Obtain credentials to access Minio store\n",
    "from stelar.auth import Realm\n",
    "from stelar.store import S3Store"
   ]
  },
  {
   "cell_type": "code",
   "execution_count": null,
   "metadata": {},
   "outputs": [],
   "source": [
    "stelarstaging2_realm = Realm(\"https://authst.vsamtuc.top/\", \"stelarstaging2\")\n",
    "stelarstaging2_realm.well_known()"
   ]
  },
  {
   "cell_type": "code",
   "execution_count": null,
   "metadata": {},
   "outputs": [],
   "source": [
    "miniost_secret = \"AmNzFfupuvN4OVs9loWl5F3714LNDGvz\"\n",
    "miniost_client = stelarstaging2_realm.client(\"miniost\", miniost_secret)\n"
   ]
  },
  {
   "cell_type": "code",
   "execution_count": null,
   "metadata": {},
   "outputs": [],
   "source": [
    "alice_token = miniost_client.token(\"alice\", \"stelar_alice\")\n",
    "alice_token"
   ]
  },
  {
   "cell_type": "code",
   "execution_count": null,
   "metadata": {},
   "outputs": [],
   "source": [
    "test_minio_tenant = S3Store(\"https://miniost.vsamtuc.top\")\n",
    "alice_jwt_token = alice_token['access_token']\n",
    "alice_role = test_minio_tenant.assume_role_with_web_identity(alice_jwt_token)\n",
    "alice_role"
   ]
  },
  {
   "cell_type": "code",
   "execution_count": null,
   "metadata": {},
   "outputs": [],
   "source": [
    "alice_credentials = alice_role['AssumeRoleWithWebIdentityResponse']['AssumeRoleWithWebIdentityResult']['Credentials']\n",
    "alice_access_key_id = alice_credentials['AccessKeyId']\n",
    "alice_secret_access_key = alice_credentials['SecretAccessKey']\n",
    "alice_session_token = alice_credentials['SessionToken']\n"
   ]
  },
  {
   "cell_type": "code",
   "execution_count": null,
   "metadata": {},
   "outputs": [],
   "source": [
    "%%sql\n",
    "SET s3_region= 'us-east-1';\n",
    "SET s3_endpoint= 'miniost.vsamtuc.top';\n",
    "SET s3_url_style= 'path';\n",
    "SET s3_access_key_id= '{{alice_access_key_id}}';\n",
    "SET s3_secret_access_key='{{alice_secret_access_key}}';\n",
    "SET s3_session_token= '{{alice_session_token}}';\n"
   ]
  },
  {
   "cell_type": "code",
   "execution_count": null,
   "metadata": {},
   "outputs": [],
   "source": [
    "%%sql \n",
    "SELECT * \n",
    "FROM  's3://bucket001/myslides/psl-state-transitions.parquet'\n",
    "LIMIT 5"
   ]
  },
  {
   "cell_type": "code",
   "execution_count": null,
   "metadata": {},
   "outputs": [],
   "source": []
  }
 ],
 "metadata": {
  "kernelspec": {
   "display_name": "Python 3 (ipykernel)",
   "language": "python",
   "name": "python3"
  },
  "language_info": {
   "codemirror_mode": {
    "name": "ipython",
    "version": 3
   },
   "file_extension": ".py",
   "mimetype": "text/x-python",
   "name": "python",
   "nbconvert_exporter": "python",
   "pygments_lexer": "ipython3",
   "version": "3.11.3"
  }
 },
 "nbformat": 4,
 "nbformat_minor": 4
}
