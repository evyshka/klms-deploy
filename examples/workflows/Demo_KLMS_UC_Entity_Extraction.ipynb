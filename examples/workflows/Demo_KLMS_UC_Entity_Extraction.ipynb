{
 "cells": [
  {
   "cell_type": "code",
   "execution_count": null,
   "id": "7c22c603-6245-44cd-aa88-9031e4da47ff",
   "metadata": {},
   "outputs": [],
   "source": [
    "import os\n",
    "import json\n",
    "import requests"
   ]
  },
  {
   "cell_type": "markdown",
   "id": "5e3b3528",
   "metadata": {},
   "source": [
    "## Specifications for accessing the KLMS Data API and Airflow"
   ]
  },
  {
   "cell_type": "code",
   "execution_count": null,
   "id": "7b791f72",
   "metadata": {},
   "outputs": [],
   "source": [
    "# URL to KLMS API \n",
    "# e.g., URL_KLMS_DATA_API='http://127.0.0.1:9055/api/v1/'\n",
    "URL_KLMS_DATA_API='XXXXXXXXXXXXXXXXXXXXXXX'\n",
    "\n",
    "# API token generated for user authentication in the Data API\n",
    "USER_API_KEY = 'XXXXXXXXXXXXXXXXXXXXXXXXXXXXXXXXXX'\n",
    "\n",
    "# Provide the API token required for requests regarding datasets in the Catalog\n",
    "user_headers = { 'Content-Type' : 'application/json', 'Api-Token' : USER_API_KEY }"
   ]
  },
  {
   "cell_type": "code",
   "execution_count": null,
   "id": "19233664-a866-43a6-87a8-917739521bb1",
   "metadata": {},
   "outputs": [],
   "source": [
    "# The URL to Airflow server where a workflow (e.g., UC_A3) has been specified\n",
    "# e.g., airflow_api_url = \"http://127.0.0.1:8090/api/v1/dags/UC_A3/dagRuns\"\n",
    "URL_AIRFLOW_API = \"XXXXXXXXXXXXXXXXXXXXXXXX\"\n",
    "\n",
    "# Necessary credentials for connecting to Airflow\n",
    "username = \"XXXXXXXXXXXXX\" \n",
    "password = \"XXXXXXXXXXXXX\""
   ]
  },
  {
   "cell_type": "markdown",
   "id": "6ae1b929",
   "metadata": {},
   "source": [
    "# Publish data sources as PRIVATE datasets in the Data Catalog"
   ]
  },
  {
   "cell_type": "markdown",
   "id": "2ee6f136-04ca-4662-93bc-331530400912",
   "metadata": {},
   "source": [
    "### A) Announcements of food product recalls"
   ]
  },
  {
   "cell_type": "markdown",
   "id": "0e8923a3-6ffe-43b5-a6ed-d83f100ed9ec",
   "metadata": {},
   "source": [
    "#### Publish metadata about this dataset in the Data Catalog"
   ]
  },
  {
   "cell_type": "code",
   "execution_count": null,
   "id": "1c24c128-6383-422a-9084-3f5b76679de1",
   "metadata": {},
   "outputs": [],
   "source": [
    "# Path to MinIO bucket where the dataset has been stored, e.g.:\n",
    "path_dataset1 = \"s3://agroknow-bucket/incidents.csv\""
   ]
  },
  {
   "cell_type": "code",
   "execution_count": null,
   "id": "a3ec6d92-c59b-495f-916c-149ebdb49455",
   "metadata": {},
   "outputs": [],
   "source": [
    "# Path to JSON profile extracted by STELAR Profiler over the dataset, e.g.:\n",
    "path_profile1 = \"<PATH-TO-FILE>/incidents_profile.json\""
   ]
  },
  {
   "cell_type": "code",
   "execution_count": null,
   "id": "622721df-64dd-428d-95b0-5dfac952b671",
   "metadata": {},
   "outputs": [],
   "source": [
    "# Metadata provided from publisher (Agroknow) + Automated metadata extracted through the Data Profiler\n",
    "metadata_dataset1 = {\n",
    "    \"basic_metadata\": {    # Basic metadata\n",
    "        \"title\": \"Public Announcements for Food Incidents\",\n",
    "        \"notes\": \"This dataset contains public announcements of food incidents around the world. Each row in the CSV file represents an announcement. Information about food product recalls includes their titles, dates, the food products being recalled as well as the broader food category they fall into (e.g. herbs, confectionery), the hazard present in the products as well as the broader hazard category they fall into (e.g. biological, allergens), the recalled products suppliers and the URLs of the announcements.\",\n",
    "        \"private\": \"True\",\n",
    "        \"tags\": [\"AGROKNOW\", \"food safety\", \"incidents\", \"hazards\", \"recalls\", \"products\", \"public announcements\"]\n",
    "    },\n",
    "    \"extra_metadata\": {    # Extra metadata\n",
    "        \"theme\": [\"Food Safety\"],\n",
    "        \"format\": \"csv\",\n",
    "        \"temporal_start\":\"1994-01-07\",\n",
    "        \"temporal_end\":\"2022-07-30\",\n",
    "        \"license\": \"https://creativecommons.org/licenses/by-sa/3.0/igo/\"\n",
    "    },\n",
    "    \"profile_metadata\": {\n",
    "        \"file\": path_profile1, \n",
    "        \"name\": \"Profile on Incidents of food product recalls\", \n",
    "        \"resource_type\": \"Tabular\",\n",
    "        \"description\": \"Tabular profile in JSON format for Public Announcements for Incidents of food product recalls from AGROKNOW\", \n",
    "        \"format\": \"JSON\"\n",
    "    }\n",
    "}"
   ]
  },
  {
   "cell_type": "code",
   "execution_count": null,
   "id": "0f34642c",
   "metadata": {},
   "outputs": [],
   "source": [
    "# Make a POST request to the KLMS Data API to publish this dataset (with its profile)\n",
    "pub_response1 = requests.post(URL_KLMS_DATA_API+'catalog/publish', json=metadata_dataset1, headers=user_headers)"
   ]
  },
  {
   "cell_type": "code",
   "execution_count": null,
   "id": "852c9656",
   "metadata": {},
   "outputs": [],
   "source": [
    "# Check response from KLMS Data API\n",
    "print(\"Status Code\", pub_response1.status_code)\n",
    "response_dict1 = pub_response1.json()\n",
    "if (response_dict1['success'] is True):\n",
    "    # Extract the ID of the newly created package\n",
    "    pid1 = response_dict1['result'][0]['result']['id']\n",
    "    print('Status Code', pub_response1.status_code, '. Published new data source in the Data Catalog with ID:' + pid1)\n",
    "else:\n",
    "    print('Status Code', pub_response1.status_code, '. Data source not published in Data Catalog.')"
   ]
  },
  {
   "cell_type": "markdown",
   "id": "eeeba898-593c-450d-b00e-198d478e177f",
   "metadata": {},
   "source": [
    "#### Also publish the actual data stored in MinIO as a resource available to KLMS workflows"
   ]
  },
  {
   "cell_type": "code",
   "execution_count": null,
   "id": "49677a3f-0666-4a30-8b0b-8de94cb34b44",
   "metadata": {},
   "outputs": [],
   "source": [
    "# Utilize the PID of the published dataset to establish the association in the Data Catalog\n",
    "metadata_res1 = {\n",
    "  \"resource_metadata\": {\n",
    "    \"description\": \"This CSV file provides information regarding incidents of food product recalls. It includes their titles, dates, the food products being recalled as well as the broader food category they fall into (e.g. herbs, confectionery), the hazard present in the products as well as the broader hazard category they fall into (e.g. biological, allergens), the recalled products suppliers and the URLs of the announcements.\",\n",
    "    \"format\": \"CSV\",\n",
    "    \"name\": \"Incidents of food product recalls\",\n",
    "    \"package_id\": pid1,\n",
    "    \"resource_tags\": [\n",
    "      \"food safety\",\"incidents\", \"hazards\", \"recalls\"\n",
    "    ],\n",
    "    \"resource_type\": \"Tabular\",\n",
    "    \"url\": path_dataset1\n",
    "  }\n",
    "}"
   ]
  },
  {
   "cell_type": "code",
   "execution_count": null,
   "id": "c1fb29ce-7559-465a-8f4c-0c1affb73aae",
   "metadata": {},
   "outputs": [],
   "source": [
    "# Make a POST request to the KLMS Data API to associate this resource with the dataset\n",
    "res_response1 = requests.post(URL_KLMS_DATA_API+'resource/link', json=metadata_res1, headers=user_headers)"
   ]
  },
  {
   "cell_type": "code",
   "execution_count": null,
   "id": "29954427-c902-4117-9cb6-f8bf2f427613",
   "metadata": {},
   "outputs": [],
   "source": [
    "# Check response from KLMS Data API\n",
    "response_dict1 = res_response1.json()\n",
    "if (response_dict1['success'] is True):\n",
    "    # Extract the ID of the newly created package\n",
    "    rid1 = response_dict1['result']['id']\n",
    "    print('Status Code', res_response1.status_code, '. Associated new resource with ID:' + rid1 + ' to already published dataset with ID: ' + pid1 + ' in the Data Catalog.')\n",
    "else:\n",
    "    print('Status Code', res_response1.status_code, '. Resource not published in Data Catalog.')"
   ]
  },
  {
   "cell_type": "markdown",
   "id": "46cac6e4-e76c-4dab-bab4-bfebc6d33af3",
   "metadata": {},
   "source": [
    "### B) Dictionary of recalled food products"
   ]
  },
  {
   "cell_type": "markdown",
   "id": "c99a9f18-d6a5-4eff-be34-966f7d5da6ab",
   "metadata": {},
   "source": [
    "#### Publish metadata about this dataset in the Data Catalog"
   ]
  },
  {
   "cell_type": "code",
   "execution_count": null,
   "id": "1bc053f0-ee0e-49ee-8855-802d0aa664b7",
   "metadata": {},
   "outputs": [],
   "source": [
    "# Path to MinIO bucket where the dataset has been stored, e.g.:\n",
    "path_dataset2 = \"s3://agroknow-bucket/ak_dict.csv\""
   ]
  },
  {
   "cell_type": "code",
   "execution_count": null,
   "id": "26fbe2f4-7d47-4386-9ce7-0e51cda27137",
   "metadata": {},
   "outputs": [],
   "source": [
    "# Path to JSON profile extracted by STELAR Profiler over the dataset, e.g.:\n",
    "path_profile2 = \"<PATH-to-FILE>/ak_dict_profile.json\""
   ]
  },
  {
   "cell_type": "code",
   "execution_count": null,
   "id": "358e8abd-1fda-40c5-b58b-4f451106295d",
   "metadata": {},
   "outputs": [],
   "source": [
    "# Metadata provided from publisher (Agroknow) + Automated metadata extracted through the Data Profiler\n",
    "metadata_dataset2 = {\n",
    "    \"basic_metadata\": {    # Basic metadata\n",
    "        \"title\": \"Recalled food products dictionary\",\n",
    "        \"notes\": \"Dictionary of food products that have been recalled. This dataset is taken from the dataset [Public Announcements for Food Incidents](https://ckan.magellan2.imsi.athenarc.gr/dataset/public_announcements_for_food_incidents).\",\n",
    "        \"private\": \"True\",\n",
    "        \"tags\": [\"AGROKNOW\", \"food safety\", \"recalls\", \"products\", \"public announcements\"]\n",
    "    },\n",
    "    \"extra_metadata\": {    # Extra metadata\n",
    "        \"theme\": [\"Food Safety\"],\n",
    "        \"format\": \"csv\",\n",
    "        \"license\": \"https://creativecommons.org/licenses/by-sa/3.0/igo/\"\n",
    "    },\n",
    "    \"profile_metadata\": {\n",
    "        \"file\": path_profile2, \n",
    "        \"name\": \"Profile on dictionary of Recalled food products\", \n",
    "        \"resource_type\": \"Tabular\",\n",
    "        \"description\": \"Tabular profile in JSON format for the dictionary of Recalled food products from AGROKNOW\", \n",
    "        \"format\": \"JSON\"\n",
    "    }\n",
    "}"
   ]
  },
  {
   "cell_type": "code",
   "execution_count": null,
   "id": "9a610832-23d8-4632-b45a-12c3383566bc",
   "metadata": {},
   "outputs": [],
   "source": [
    "# Make a POST request to the KLMS Data API to publish this dataset (with its profile)\n",
    "pub_response2 = requests.post(URL_KLMS_DATA_API+'catalog/publish', json=metadata_dataset2, headers=user_headers)"
   ]
  },
  {
   "cell_type": "code",
   "execution_count": null,
   "id": "b3437695-7ca6-4af8-9a69-168311df0a83",
   "metadata": {},
   "outputs": [],
   "source": [
    "# Check response from KLMS Data API\n",
    "print(\"Status Code\", pub_response2.status_code)\n",
    "response_dict2 = pub_response2.json()\n",
    "if (response_dict2['success'] is True):\n",
    "    # Extract the ID of the newly created package\n",
    "    pid2 = response_dict2['result'][0]['result']['id']\n",
    "    print('Status Code', pub_response2.status_code, '. Published new data source in the Data Catalog with ID:' + pid2)\n",
    "else:\n",
    "    print('Status Code', pub_response2.status_code, '. Data source not published in Data Catalog.')"
   ]
  },
  {
   "cell_type": "markdown",
   "id": "14f642c8-b2a5-4e78-998a-b0552b0981d7",
   "metadata": {},
   "source": [
    "#### Also publish the actual data stored in MinIO as a resource available to KLMS workflows"
   ]
  },
  {
   "cell_type": "code",
   "execution_count": null,
   "id": "67005fa8-49d5-484b-acb6-2828d7dad517",
   "metadata": {},
   "outputs": [],
   "source": [
    "# Utilize the PID of the published dataset to establish the association in the Data Catalog\n",
    "metadata_res2 = {\n",
    "  \"resource_metadata\": {\n",
    "    \"description\": \"This CSV file provides a Dictionary of food products that have been recalled.\",\n",
    "    \"format\": \"CSV\",\n",
    "    \"name\": \"Dictionary data of Recalled food products\",\n",
    "    \"package_id\": pid2,\n",
    "    \"resource_tags\": [\n",
    "      \"dictionary\", \"food safety\", \"recalls\", \"products\"\n",
    "    ],\n",
    "    \"resource_type\": \"Tabular\",\n",
    "    \"url\": path_dataset2\n",
    "  }\n",
    "}"
   ]
  },
  {
   "cell_type": "code",
   "execution_count": null,
   "id": "09cdc45a-8575-4caa-b573-e06bf6c7e309",
   "metadata": {},
   "outputs": [],
   "source": [
    "# Make a POST request to the KLMS Data API to associate this resource with the dataset\n",
    "res_response2 = requests.post(URL_KLMS_DATA_API+'resource/link', json=metadata_res2, headers=user_headers)"
   ]
  },
  {
   "cell_type": "code",
   "execution_count": null,
   "id": "2d5bf0bf-5d5f-49f1-9ffd-e80a1d343016",
   "metadata": {},
   "outputs": [],
   "source": [
    "# Check response from KLMS Data API\n",
    "response_dict2 = res_response2.json()\n",
    "if (response_dict2['success'] is True):\n",
    "    # Extract the ID of the newly created package\n",
    "    rid2 = response_dict2['result']['id']\n",
    "    print('Status Code', res_response2.status_code, '. Associated new resource with ID:' + rid2 + ' to already published dataset with ID: ' + pid2 + ' in the Data Catalog.')\n",
    "else:\n",
    "    print('Status Code', res_response2.status_code, '. Resource not published in Data Catalog.')"
   ]
  },
  {
   "cell_type": "markdown",
   "id": "16daa754-90e7-4c08-bc30-45de4d00f3c1",
   "metadata": {},
   "source": [
    "# Triggering Airflow via REST API"
   ]
  },
  {
   "cell_type": "code",
   "execution_count": null,
   "id": "b789b2a7-5e84-4d3d-bfe8-2c41bcf7d358",
   "metadata": {},
   "outputs": [],
   "source": [
    "# Define the configuration for the DAG run \n",
    "# Input involves two data resources (rid1, rid2) previously published in the Data Catalog\n",
    "config = {\n",
    "   \"username\": username,\n",
    "   \"password\": password,\n",
    "   \"input\": [rid1, rid2],\n",
    "   \"tools\":{\n",
    "      \"entity_extraction\":{\n",
    "          \"output_file\":\"out.csv\",\n",
    "          \"text_column\":\"description\",\n",
    "          \"csv_delimiter\":\",\",\n",
    "          \"N\":100,\n",
    "          \"extraction_type\":\"food\",\n",
    "          \"model\":\"instafoodroberta\",\n",
    "          \"syntactic_analysis_tool\":\"stanza\"\n",
    "      },\n",
    "      \"entity_linking\":{\n",
    "         \"col_id_left\":1,\n",
    "         \"col_text_left\":2,\n",
    "         \"separator_left\":\" \",\n",
    "         \"col_id_right\":0,\n",
    "         \"col_text_right\":1,\n",
    "         \"separator_right\":\" \",\n",
    "         \"k\":1,\n",
    "         \"delta_alg\":\"1\",\n",
    "         \"output_file\":\"out.csv\"\n",
    "      }\n",
    "   },\n",
    "   \"package_metadata\":{\n",
    "      \"title\":\"Entity Extraction on Food Incidents (UC_A3)\",  #if cell is re-ran, it will fail. Give a diff name, e.g. _2 or remove all package_metadata\n",
    "      \"notes\":\"Entity Extraction on food recall incidents, accompanied by Entity Linking to a known entity dictionary.\",\n",
    "      \"tags\":[\n",
    "         {\n",
    "            \"name\":\"AgroKnow\"\n",
    "         },\n",
    "         {\n",
    "            \"name\":\"Food Incidents\"\n",
    "         },\n",
    "         {\n",
    "            \"name\":\"Entity Extraction\"\n",
    "         },\n",
    "         {\n",
    "            \"name\":\"Entity Linking\"\n",
    "         }\n",
    "      ]\n",
    "   }\n",
    "}"
   ]
  },
  {
   "cell_type": "code",
   "execution_count": null,
   "id": "76b620cf-678b-4114-9658-b9ec53995386",
   "metadata": {},
   "outputs": [],
   "source": [
    "# Make the POST request to trigger the DAG run\n",
    "response = requests.post(URL_AIRFLOW_API, json={\"conf\": config}, auth=(username, password))\n",
    "\n",
    "# Check if the request was successful\n",
    "if response.status_code == 200:\n",
    "    print(\"DAG run triggered successfully.\")\n",
    "else:\n",
    "    print(\"Failed to trigger DAG run. Status code:\", response.status_code)\n",
    "    print(\"Error message:\", response.text)"
   ]
  },
  {
   "cell_type": "markdown",
   "id": "2a86ef65-f239-4f6a-8007-f028166785d1",
   "metadata": {},
   "source": [
    "# Inspecting workflow executions"
   ]
  },
  {
   "cell_type": "markdown",
   "id": "b4ca970a-0565-4ac8-947d-a90658221488",
   "metadata": {},
   "source": [
    "### I) Specify GET requests to Data API"
   ]
  },
  {
   "cell_type": "markdown",
   "id": "338a78f7-07d8-47ea-b891-25bc120718b9",
   "metadata": {},
   "source": [
    "#### List workflows where a dataset was given as input"
   ]
  },
  {
   "cell_type": "code",
   "execution_count": null,
   "id": "80e6abe8-25c2-45c3-8089-d617aa9e3437",
   "metadata": {},
   "outputs": [],
   "source": [
    "# List all workflows where a dataset (specified by its UUID) has been given as input: \n",
    "# e.g., pid = '82aaa2df-be92-46ee-a36b-cc59122a5d5b'\n",
    "pid = 'XXXXXXXXXXXXXXXXXXXXXX'\n",
    "input_response= requests.get(URL_KLMS_DATA_API+'/workflow/input/dataset?id='+pid)\n",
    "print(input_response.json())"
   ]
  },
  {
   "cell_type": "markdown",
   "id": "31f6db89-de62-43b7-92d6-fcc023b1a0f4",
   "metadata": {},
   "source": [
    "#### List of tasks defined in a workflow"
   ]
  },
  {
   "cell_type": "code",
   "execution_count": null,
   "id": "f74a0c04-b7e4-415b-805e-61ab0f97faa7",
   "metadata": {},
   "outputs": [],
   "source": [
    "# List the tasks involved in one of these workflows (specified by a workflow identifier returned by the previous request): \n",
    "# e.g., workflow_id = 'UC_A3'\n",
    "workflow_id = 'XXXXXXXXXXXXXX'\n",
    "tasks_response= requests.get(URL_KLMS_DATA_API+'/workflow/tasks?id='+workflow_id)\n",
    "print(tasks_response.json())"
   ]
  },
  {
   "cell_type": "markdown",
   "id": "d563f649-e8e6-49b5-9334-e28676e6871d",
   "metadata": {},
   "source": [
    "#### List all executions of a given task "
   ]
  },
  {
   "cell_type": "code",
   "execution_count": null,
   "id": "20870230-1bbd-4a43-9863-25848f4f6a89",
   "metadata": {},
   "outputs": [],
   "source": [
    "# List details of all executions of one of the previously returned tasks: \n",
    "# e.g., task_id = 'entity_extraction'\n",
    "task_id = 'XXXXXXXXXXXXXXXXXX'\n",
    "task_executions_response= requests.get(URL_KLMS_DATA_API+'/task/executions?id='+task_id)\n",
    "print(task_executions_response.json())"
   ]
  },
  {
   "cell_type": "markdown",
   "id": "1dea78dd-96d6-4e38-8d54-ce8482dcc63d",
   "metadata": {},
   "source": [
    "#### Parameter values specified in a task execution"
   ]
  },
  {
   "cell_type": "code",
   "execution_count": null,
   "id": "211a30d7-c62f-450b-a88e-bc38a7214997",
   "metadata": {},
   "outputs": [],
   "source": [
    "# Fetch all user-specified parameter values for a given task execution (using its MLFlow identifier obtained from the previous request): \n",
    "# e.g., task_exec_id = '43ce98256c104f72b1a1c84c34c04a04'\n",
    "task_exec_id = 'XXXXXXXXXXXXXXXX'\n",
    "parameters_response= requests.get(URL_KLMS_DATA_API+'/task/execution/parameters?id='+task_exec_id)\n",
    "print(parameters_response.json())"
   ]
  },
  {
   "cell_type": "markdown",
   "id": "fc0e7d57-cddc-44df-925a-9face202d0ec",
   "metadata": {},
   "source": [
    "#### Performance metrics collected for a task execution"
   ]
  },
  {
   "cell_type": "code",
   "execution_count": null,
   "id": "20258963-ff9e-462c-b5f7-12baedea12eb",
   "metadata": {},
   "outputs": [],
   "source": [
    "# Fetch all performance metrics reported in MLFlow for the given task execution: \n",
    "# e.g., task_exec_id = '43ce98256c104f72b1a1c84c34c04a04'\n",
    "task_exec_id = 'XXXXXXXXXXXXXXX'\n",
    "metrics_response= requests.get(URL_KLMS_DATA_API+'/task/execution/metrics?id='+task_exec_id)\n",
    "print(metrics_response.json())"
   ]
  },
  {
   "cell_type": "markdown",
   "id": "06044e38-6d1d-480d-9472-56f64f1f7664",
   "metadata": {},
   "source": [
    "### II) SPARQL queries against the Knowledge Graph"
   ]
  },
  {
   "cell_type": "markdown",
   "id": "7b99fe60-1f82-449d-9fe6-8acea88d5186",
   "metadata": {},
   "source": [
    "#### Q1: List the tasks specified in a given workflow (\"UC_A3\") and the user who defined them"
   ]
  },
  {
   "cell_type": "code",
   "execution_count": null,
   "id": "5abe10ac-6422-4b28-902e-f63db217b47a",
   "metadata": {},
   "outputs": [],
   "source": [
    "sparql1 = { \"q\": \"PREFIX dct: <http://purl.org/dc/terms/> PREFIX foaf: <http://xmlns.com/foaf/0.1/> PREFIX klms: <http://stelar-project.eu/klms#> SELECT ?workflow_desc ?task_name ?username WHERE { ?workflow a klms:Workflow . ?workflow dct:creator ?user . ?user foaf:name ?username .  ?workflow dct:title \\\"UC_A3\\\" .   ?workflow dct:description ?workflow_desc . ?task a klms:Task . ?task dct:isPartOf ?workflow . ?task dct:title ?task_name }\" }"
   ]
  },
  {
   "cell_type": "code",
   "execution_count": null,
   "id": "0e824c05-ac79-4802-88ac-a12337288778",
   "metadata": {},
   "outputs": [],
   "source": [
    "# Make a POST request to the KLMS API with this SPARQL query\n",
    "graph_response1 = requests.post(URL_KLMS_DATA_API+'graph/search', json=sparql1, headers=user_headers)"
   ]
  },
  {
   "cell_type": "code",
   "execution_count": null,
   "id": "64544006-8d00-49e8-9db3-cb2d59b1fd61",
   "metadata": {},
   "outputs": [],
   "source": [
    "print(\"Q1 results: \", graph_response1.text)"
   ]
  },
  {
   "cell_type": "markdown",
   "id": "5ab97a2c-c881-4a1f-b3b7-1a1b8bd3a1ac",
   "metadata": {},
   "source": [
    "#### Q2: Metadata about output files issued after all executions of a workflow"
   ]
  },
  {
   "cell_type": "code",
   "execution_count": null,
   "id": "0a1e238b-3aad-4ba4-9b4c-75fa06b88ec6",
   "metadata": {},
   "outputs": [],
   "source": [
    "# Display metadata details (title, format, date, path to MinIO) about output files issued after all executions of a specific workflow (\"UC_A3\"):\n",
    "sparql2 = { \"q\": \"PREFIX dcat: <http://www.w3.org/ns/dcat#> PREFIX dct: <http://purl.org/dc/terms/> PREFIX klms: <http://stelar-project.eu/klms#> SELECT ?id ?title ?format ?date ?file_path WHERE { ?workflow dct:title \\\"UC_A3\\\" . ?workflowExec klms:instantiates ?workflow . ?taskExec dct:isPartOf ?workflowExec . ?taskExec klms:hasOutput ?resource . ?resource dct:identifier ?id . ?resource dct:title ?title . ?resource dct:format ?format . ?resource dct:issued ?date . ?resource dcat:accessURL ?file_path }\"}"
   ]
  },
  {
   "cell_type": "code",
   "execution_count": null,
   "id": "ed0a37ff-e5b4-4054-93f0-ace5363689fd",
   "metadata": {},
   "outputs": [],
   "source": [
    "# Make a POST request to the KLMS API with this SPARQL query\n",
    "graph_response2 = requests.post(URL_KLMS_DATA_API+'graph/search', json=sparql2, headers=user_headers)"
   ]
  },
  {
   "cell_type": "code",
   "execution_count": null,
   "id": "0ec1348f-f3c5-49f4-b635-d1bfc66d9e95",
   "metadata": {},
   "outputs": [],
   "source": [
    "print(\"Q2 results: \", graph_response2.text)"
   ]
  },
  {
   "cell_type": "markdown",
   "id": "62d5c197-99a3-4568-90e7-413a8fe610ce",
   "metadata": {},
   "source": [
    "#### Q3: Compare execution time among all executions of a given task"
   ]
  },
  {
   "cell_type": "code",
   "execution_count": null,
   "id": "ca8bab00-6016-4f22-9b97-6c05b0a5f5d1",
   "metadata": {},
   "outputs": [],
   "source": [
    "# Compare execution time among all executions of a given task (\"entity_linking\"):\n",
    "sparql3 = { \"q\": \"PREFIX dct: <http://purl.org/dc/terms/> PREFIX klms: <http://stelar-project.eu/klms#> SELECT ?value ?timestamp WHERE {?task a klms:Task . ?task dct:title \\\"entity_linking\\\" . ?taskExec klms:instantiates ?task . ?taskExec klms:hasMetrics ?kvpair . ?kvpair klms:key \\\"total_time\\\" . ?kvpair klms:value ?value . ?kvpair dct:issued ?timestamp }\"}"
   ]
  },
  {
   "cell_type": "code",
   "execution_count": null,
   "id": "299d201d-911f-4796-9e8d-24063c3c31a3",
   "metadata": {},
   "outputs": [],
   "source": [
    "# Make a POST request to the KLMS API with this SPARQL query\n",
    "graph_response3 = requests.post(URL_KLMS_DATA_API+'graph/search', json=sparql3, headers=user_headers)"
   ]
  },
  {
   "cell_type": "code",
   "execution_count": null,
   "id": "dd273046-9538-4542-a0b7-7b26621fa4e7",
   "metadata": {},
   "outputs": [],
   "source": [
    "print(\"Q3 results: \", graph_response3.text)"
   ]
  },
  {
   "cell_type": "code",
   "execution_count": null,
   "id": "5a087d4e-f7a9-41fc-bad5-bbcadc5f2b33",
   "metadata": {},
   "outputs": [],
   "source": []
  }
 ],
 "metadata": {
  "kernelspec": {
   "display_name": "Geo (Python 3.8)",
   "language": "python",
   "name": "geo"
  },
  "language_info": {
   "codemirror_mode": {
    "name": "ipython",
    "version": 3
   },
   "file_extension": ".py",
   "mimetype": "text/x-python",
   "name": "python",
   "nbconvert_exporter": "python",
   "pygments_lexer": "ipython3",
   "version": "3.8.8"
  }
 },
 "nbformat": 4,
 "nbformat_minor": 5
}
